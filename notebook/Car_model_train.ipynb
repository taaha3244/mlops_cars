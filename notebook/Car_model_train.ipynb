{
  "nbformat": 4,
  "nbformat_minor": 0,
  "metadata": {
    "colab": {
      "provenance": []
    },
    "kernelspec": {
      "name": "python3",
      "display_name": "Python 3"
    },
    "language_info": {
      "name": "python"
    }
  },
  "cells": [
    {
      "cell_type": "code",
      "execution_count": 13,
      "metadata": {
        "id": "moYJKCmSat4n"
      },
      "outputs": [],
      "source": [
        "import pandas as pd\n",
        "import numpy as np\n",
        "from sklearn.compose import ColumnTransformer\n",
        "from sklearn.pipeline import Pipeline\n",
        "from sklearn.preprocessing import OneHotEncoder, OrdinalEncoder, StandardScaler\n",
        "from sklearn.model_selection import train_test_split\n",
        "from sklearn.linear_model import LogisticRegression\n",
        "from sklearn.tree import DecisionTreeClassifier\n",
        "from sklearn.ensemble import RandomForestClassifier, GradientBoostingClassifier\n",
        "from sklearn.svm import SVC\n",
        "from sklearn.model_selection import cross_val_score\n"
      ]
    },
    {
      "cell_type": "code",
      "source": [
        "car_data=pd.read_csv('car.csv')"
      ],
      "metadata": {
        "id": "cjGR3SVDbIM_"
      },
      "execution_count": 4,
      "outputs": []
    },
    {
      "cell_type": "code",
      "source": [
        "# Split the dataset into training and testing sets\n",
        "train_data, test_data = train_test_split(car_data, test_size=0.2, random_state=42, stratify=car_data['Car_Acceptability'])\n",
        "\n",
        "# Display the size of the training and testing sets\n",
        "train_size = train_data.shape[0]\n",
        "test_size = test_data.shape[0]\n",
        "\n",
        "train_size, test_size"
      ],
      "metadata": {
        "colab": {
          "base_uri": "https://localhost:8080/"
        },
        "id": "hy-EyBCbbNAs",
        "outputId": "22d781ed-bc34-4900-95cb-598fc6e0fd4f"
      },
      "execution_count": 5,
      "outputs": [
        {
          "output_type": "execute_result",
          "data": {
            "text/plain": [
              "(1382, 346)"
            ]
          },
          "metadata": {},
          "execution_count": 5
        }
      ]
    },
    {
      "cell_type": "code",
      "source": [
        "# Separate features (X) and target (y) for both training and testing sets\n",
        "X_train = train_data.drop(columns=['Car_Acceptability'])\n",
        "y_train = train_data['Car_Acceptability']\n",
        "X_test = test_data.drop(columns=['Car_Acceptability'])\n",
        "y_test = test_data['Car_Acceptability']"
      ],
      "metadata": {
        "id": "A8pcMpU_cQx9"
      },
      "execution_count": 7,
      "outputs": []
    },
    {
      "cell_type": "code",
      "source": [
        "# Define categorical and ordinal columns (excluding the target column)\n",
        "categorical_cols = ['Person_Capacity', 'Size_of_Luggage']\n",
        "ordinal_cols = ['Buying_Price', 'Maintenance_Price', 'No_of_Doors', 'Safety']\n",
        "\n",
        "# Define the ordering for ordinal encoding\n",
        "ordinal_categories = [\n",
        "    ['low', 'med', 'high', 'vhigh'],  # Buying_Price\n",
        "    ['low', 'med', 'high', 'vhigh'],  # Maintenance_Price\n",
        "    ['2', '3', '4', '5more'],         # No_of_Doors\n",
        "    ['low', 'med', 'high']            # Safety\n",
        "]\n",
        "\n",
        "# Preprocessing pipelines for both categorical and ordinal columns\n",
        "preprocessor = ColumnTransformer(\n",
        "    transformers=[\n",
        "        ('cat', OneHotEncoder(), categorical_cols),\n",
        "        ('ord', Pipeline([\n",
        "            ('ordinal', OrdinalEncoder(categories=ordinal_categories)),\n",
        "            ('scaler', StandardScaler())\n",
        "        ]), ordinal_cols)\n",
        "    ],\n",
        "    remainder='passthrough'\n",
        ")\n",
        "\n",
        "# Fit and transform the training features\n",
        "X_train_processed = preprocessor.fit_transform(X_train)\n",
        "\n",
        "# Transform the testing features\n",
        "X_test_processed = preprocessor.transform(X_test)\n",
        "\n",
        "X_train_processed.shape, X_test_processed.shape"
      ],
      "metadata": {
        "colab": {
          "base_uri": "https://localhost:8080/"
        },
        "id": "uBffEOChdCuE",
        "outputId": "0f9cb074-835b-405f-df72-8d11a27bf246"
      },
      "execution_count": 9,
      "outputs": [
        {
          "output_type": "execute_result",
          "data": {
            "text/plain": [
              "((1382, 10), (346, 10))"
            ]
          },
          "metadata": {},
          "execution_count": 9
        }
      ]
    },
    {
      "cell_type": "code",
      "source": [
        "X_train_processed"
      ],
      "metadata": {
        "colab": {
          "base_uri": "https://localhost:8080/"
        },
        "id": "yqjfvyPydNFb",
        "outputId": "762c5a5d-d767-4ab9-f0d2-6967a1f66923"
      },
      "execution_count": 12,
      "outputs": [
        {
          "output_type": "execute_result",
          "data": {
            "text/plain": [
              "array([[ 0.        ,  1.        ,  0.        , ..., -0.41700877,\n",
              "        -0.42542184, -0.0043986 ],\n",
              "       [ 1.        ,  0.        ,  0.        , ...,  0.48206474,\n",
              "        -0.42542184, -0.0043986 ],\n",
              "       [ 0.        ,  0.        ,  1.        , ...,  0.48206474,\n",
              "         1.35349793, -0.0043986 ],\n",
              "       ...,\n",
              "       [ 1.        ,  0.        ,  0.        , ...,  1.38113826,\n",
              "        -1.31488173,  1.21137419],\n",
              "       [ 1.        ,  0.        ,  0.        , ..., -1.31608229,\n",
              "         0.46403805, -0.0043986 ],\n",
              "       [ 0.        ,  1.        ,  0.        , ..., -1.31608229,\n",
              "         0.46403805, -0.0043986 ]])"
            ]
          },
          "metadata": {},
          "execution_count": 12
        }
      ]
    },
    {
      "cell_type": "code",
      "source": [
        "# Define models to train\n",
        "models = {\n",
        "    \"Logistic Regression\": LogisticRegression(max_iter=1000, random_state=42),\n",
        "    \"Decision Tree\": DecisionTreeClassifier(random_state=42),\n",
        "    \"Random Forest\": RandomForestClassifier(random_state=42),\n",
        "    \"Gradient Boosting\": GradientBoostingClassifier(random_state=42),\n",
        "    \"Support Vector Machine\": SVC(random_state=42)\n",
        "}"
      ],
      "metadata": {
        "id": "QW1Ykw0KlTXE"
      },
      "execution_count": 14,
      "outputs": []
    },
    {
      "cell_type": "code",
      "source": [
        "from sklearn.metrics import precision_score\n",
        "from sklearn.metrics import accuracy_score\n",
        "\n",
        "# Function to evaluate models using cross-validation, accuracy, and precision\n",
        "def evaluate_model_with_metrics(model, X_train, y_train, X_test, y_test):\n",
        "    # Cross-validation for accuracy\n",
        "    scores = cross_val_score(model, X_train, y_train, cv=5, scoring='accuracy')\n",
        "    print(f\"{model.__class__.__name__} CV Accuracy: {scores.mean():.4f} (+/- {scores.std():.4f})\")\n",
        "\n",
        "    # Train the model\n",
        "    model.fit(X_train, y_train)\n",
        "\n",
        "    # Predict on test set\n",
        "    y_test_pred = model.predict(X_test)\n",
        "\n",
        "    # Calculate metrics\n",
        "    test_accuracy = accuracy_score(y_test, y_test_pred)\n",
        "    test_precision = precision_score(y_test, y_test_pred, average='weighted', zero_division=0)\n",
        "\n",
        "    print(f\"{model.__class__.__name__} Test Accuracy: {test_accuracy:.4f}\")\n",
        "    print(f\"{model.__class__.__name__} Test Precision: {test_precision:.4f}\\n\")\n",
        "\n",
        "    return test_accuracy, test_precision\n",
        "\n"
      ],
      "metadata": {
        "id": "B3Vq4GMVdOT2"
      },
      "execution_count": 15,
      "outputs": []
    },
    {
      "cell_type": "code",
      "source": [
        "# Train and evaluate each model\n",
        "model_performance = {}\n",
        "\n",
        "for name, model in models.items():\n",
        "    print(f\"Training and evaluating {name}...\")\n",
        "    test_accuracy, test_precision = evaluate_model_with_metrics(model, X_train_processed, y_train, X_test_processed, y_test)\n",
        "\n",
        "    # Store results\n",
        "    model_performance[name] = {'Accuracy': test_accuracy, 'Precision': test_precision}\n",
        "\n",
        "model_performance"
      ],
      "metadata": {
        "colab": {
          "base_uri": "https://localhost:8080/"
        },
        "id": "6wz37XGbln2m",
        "outputId": "af2e8ff7-8874-4adb-b1c1-ce9253880787"
      },
      "execution_count": 16,
      "outputs": [
        {
          "output_type": "stream",
          "name": "stdout",
          "text": [
            "Training and evaluating Logistic Regression...\n",
            "LogisticRegression CV Accuracy: 0.8669 (+/- 0.0106)\n",
            "LogisticRegression Test Accuracy: 0.8728\n",
            "LogisticRegression Test Precision: 0.8678\n",
            "\n",
            "Training and evaluating Decision Tree...\n",
            "DecisionTreeClassifier CV Accuracy: 0.9768 (+/- 0.0109)\n",
            "DecisionTreeClassifier Test Accuracy: 0.9913\n",
            "DecisionTreeClassifier Test Precision: 0.9916\n",
            "\n",
            "Training and evaluating Random Forest...\n",
            "RandomForestClassifier CV Accuracy: 0.9638 (+/- 0.0138)\n",
            "RandomForestClassifier Test Accuracy: 0.9942\n",
            "RandomForestClassifier Test Precision: 0.9944\n",
            "\n",
            "Training and evaluating Gradient Boosting...\n",
            "GradientBoostingClassifier CV Accuracy: 0.9891 (+/- 0.0023)\n",
            "GradientBoostingClassifier Test Accuracy: 0.9855\n",
            "GradientBoostingClassifier Test Precision: 0.9864\n",
            "\n",
            "Training and evaluating Support Vector Machine...\n",
            "SVC CV Accuracy: 0.9602 (+/- 0.0033)\n",
            "SVC Test Accuracy: 0.9711\n",
            "SVC Test Precision: 0.9727\n",
            "\n"
          ]
        },
        {
          "output_type": "execute_result",
          "data": {
            "text/plain": [
              "{'Logistic Regression': {'Accuracy': 0.8728323699421965,\n",
              "  'Precision': 0.8677694901404769},\n",
              " 'Decision Tree': {'Accuracy': 0.9913294797687862,\n",
              "  'Precision': 0.9915962650066696},\n",
              " 'Random Forest': {'Accuracy': 0.9942196531791907,\n",
              "  'Precision': 0.9943659910733885},\n",
              " 'Gradient Boosting': {'Accuracy': 0.9855491329479769,\n",
              "  'Precision': 0.9864302833779783},\n",
              " 'Support Vector Machine': {'Accuracy': 0.9710982658959537,\n",
              "  'Precision': 0.9726971348280392}}"
            ]
          },
          "metadata": {},
          "execution_count": 16
        }
      ]
    },
    {
      "cell_type": "code",
      "source": [
        "import joblib\n",
        "\n",
        "# Identify the best model based on test accuracy\n",
        "best_model_name = max(model_performance, key=lambda name: model_performance[name]['Accuracy'])\n",
        "best_model = models[best_model_name]\n",
        "\n",
        "# Train the best model on the entire training set\n",
        "best_model.fit(X_train_processed, y_train)\n",
        "\n",
        "# Save the best model to a file\n",
        "model_filename = f\"best_model_{best_model_name.replace(' ', '_').lower()}.pkl\"\n",
        "joblib.dump(best_model, model_filename)\n",
        "\n",
        "model_filename"
      ],
      "metadata": {
        "colab": {
          "base_uri": "https://localhost:8080/",
          "height": 36
        },
        "id": "g9N3955NmEPE",
        "outputId": "c0d16def-f57f-4d32-8dd0-2e1cf3a44592"
      },
      "execution_count": 17,
      "outputs": [
        {
          "output_type": "execute_result",
          "data": {
            "text/plain": [
              "'best_model_random_forest.pkl'"
            ],
            "application/vnd.google.colaboratory.intrinsic+json": {
              "type": "string"
            }
          },
          "metadata": {},
          "execution_count": 17
        }
      ]
    }
  ]
}